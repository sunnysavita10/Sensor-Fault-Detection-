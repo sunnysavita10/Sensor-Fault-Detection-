{
 "cells": [
  {
   "cell_type": "code",
   "execution_count": null,
   "metadata": {},
   "outputs": [],
   "source": [
    "from database_connect import mongo_operation as mongo\n",
    "\n",
    "client_url= \"\"\n",
    "database_name = \"sensor\"\n",
    "\n",
    "\n",
    "def upload_files_to_mongodb(\n",
    "    mongo_client_con_string,\n",
    "    database_name,\n",
    "    datasets_dir_name):\n",
    "  \n",
    "  for file in os.listdir(datasets_dir_name):\n",
    "    if file.endswith('.csv'):\n",
    "      file_name = file.split('.')[0]\n",
    "\n",
    "      mongo_connection = mongo(\n",
    "          client_url = mongo_client_con_string,\n",
    "          database_name= database_name,\n",
    "          collection_name= file_name\n",
    "      )\n",
    "\n",
    "      file_path = os.path.join(datasets_dir_name, file_name)\n",
    "      mongo_connection.bulk_insert(file)\n",
    "      print(f\"{file_name} is uploaded to mongodb\")\n",
    "\n",
    "\n",
    "upload_files_to_mongodb(\n",
    "    mongo_client_con_string= client_url,\n",
    "    database_name = database_name,\n",
    "    datasets_dir_name= \"/content\"\n",
    ")\n"
   ]
  },
  {
   "cell_type": "code",
   "execution_count": 1,
   "metadata": {},
   "outputs": [
    {
     "data": {
      "text/plain": [
       "int"
      ]
     },
     "execution_count": 1,
     "metadata": {},
     "output_type": "execute_result"
    }
   ],
   "source": [
    "type(-1)"
   ]
  },
  {
   "cell_type": "code",
   "execution_count": null,
   "metadata": {},
   "outputs": [],
   "source": []
  }
 ],
 "metadata": {
  "kernelspec": {
   "display_name": "Python 3",
   "language": "python",
   "name": "python3"
  },
  "language_info": {
   "codemirror_mode": {
    "name": "ipython",
    "version": 3
   },
   "file_extension": ".py",
   "mimetype": "text/x-python",
   "name": "python",
   "nbconvert_exporter": "python",
   "pygments_lexer": "ipython3",
   "version": "3.8.16"
  },
  "orig_nbformat": 4
 },
 "nbformat": 4,
 "nbformat_minor": 2
}
